{
 "cells": [
  {
   "cell_type": "code",
   "execution_count": 1,
   "metadata": {},
   "outputs": [
    {
     "name": "stderr",
     "output_type": "stream",
     "text": [
      "/opt/homebrew/lib/python3.11/site-packages/tqdm/auto.py:21: TqdmWarning: IProgress not found. Please update jupyter and ipywidgets. See https://ipywidgets.readthedocs.io/en/stable/user_install.html\n",
      "  from .autonotebook import tqdm as notebook_tqdm\n"
     ]
    }
   ],
   "source": [
    "import torch\n",
    "from torch import nn\n",
    "\n",
    "from sklearn.metrics import f1_score\n",
    "from sklearn.metrics import matthews_corrcoef\n",
    "from sklearn.metrics import precision_score\n",
    "from sklearn.metrics import recall_score\n",
    "from sklearn.metrics import roc_curve,auc\n",
    "\n",
    "from sklearn.model_selection import train_test_split\n",
    "\n",
    "from rgcn-model import BotRGCN\n",
    "from utils import accuracy, init_weights"
   ]
  },
  {
   "cell_type": "code",
   "execution_count": 2,
   "metadata": {},
   "outputs": [],
   "source": [
    "device = 'cpu'\n",
    "embedding_size = 32\n",
    "dropout = 0.1\n",
    "lr = 1e-2\n",
    "weight_decay = 5e-2"
   ]
  },
  {
   "cell_type": "code",
   "execution_count": 3,
   "metadata": {},
   "outputs": [],
   "source": [
    "#Re calculate Des Tensor\n",
    "path = \"/Dataset/\"\n",
    "des_tensor = torch.load(path + \"filtered_des_tensor.pt\").t().to(device)\n",
    "\n",
    "num_prop = torch.load(path + \"filtered_num_properties_tensor.pt\").t().to(device)\n",
    "category_prop = torch.load(path + \"filtered_cat_properties_tensor.pt\").t().to(device)\n",
    "labels = torch.load(path + \"filtered_label.pt\").t().to(device)\n",
    "\n",
    "tweets_tensor = torch.load(\"/Users/ketanjadhav/Documents/BotRGCN/processed_data/tweets_tensor.pt\").t().to(device)\n",
    "\n",
    "train_idx = torch.load(path + \"filtered_train_idx.pt\").to(device)\n",
    "val_idx = torch.load(path + \"filtered_val_idx.pt\").to(device)\n",
    "test_idx = torch.load(path + \"filtered_test_idx.pt\").to(device)"
   ]
  },
  {
   "cell_type": "code",
   "execution_count": 4,
   "metadata": {},
   "outputs": [],
   "source": [
    "edge_index = torch.load(path + \"filtered_edge_index.pt\").to(device)\n",
    "edge_type = torch.load(path + \"filtered_edge_type.pt\").to(device)\n",
    "\n",
    "# perm = torch.randperm(edge_index.size(1))\n",
    "\n",
    "# Shuffle edge_index and edge_type tensors using the same permutation\n",
    "# shuffled_edge_index = edge_index[:, perm]\n",
    "# shuffled_edge_type = edge_type[perm]"
   ]
  },
  {
   "cell_type": "code",
   "execution_count": 5,
   "metadata": {},
   "outputs": [
    {
     "name": "stdout",
     "output_type": "stream",
     "text": [
      "tensor([[-0.0563, -1.1613, -0.1290, -0.1546],\n",
      "        [-0.0683,  0.0780, -0.0735, -0.1652],\n",
      "        [-0.0685, -1.2439, -0.1387, -0.1798],\n",
      "        ...,\n",
      "        [-0.0645,  0.5017, -0.1154,  2.0183],\n",
      "        [-0.0666,  1.2083, -0.0832, -0.1526],\n",
      "        [-0.0682,  0.4337, -0.1212,  3.6935]])\n",
      "tensor([[0., 0., 0.],\n",
      "        [0., 0., 0.],\n",
      "        [0., 0., 0.],\n",
      "        ...,\n",
      "        [0., 0., 0.],\n",
      "        [0., 0., 0.],\n",
      "        [0., 0., 0.]])\n",
      "tensor([[204015, 129076, 129076,  ..., 164201, 167506, 181147],\n",
      "        [ 53479, 129501, 120774,  ...,  31536, 257550, 159618]])\n",
      "tensor([0, 0, 0,  ..., 1, 1, 1])\n",
      "tensor([[-0.0212,  0.1255, -0.0082,  ..., -0.0461, -0.0250, -0.1196],\n",
      "        [-0.0107, -0.0601,  0.0522,  ..., -0.0407, -0.0450, -0.1029],\n",
      "        [-0.0375,  0.0321,  0.0392,  ..., -0.1060, -0.0376, -0.0408],\n",
      "        ...,\n",
      "        [-0.0551,  0.0950,  0.0320,  ..., -0.1207,  0.0556, -0.0173],\n",
      "        [ 0.0541, -0.0424,  0.0753,  ..., -0.3016,  0.1198, -0.0377],\n",
      "        [-0.0848,  0.2171, -0.0835,  ...,  0.0840, -0.1388,  0.1114]])\n"
     ]
    }
   ],
   "source": [
    "print(num_prop)\n",
    "print(category_prop)\n",
    "print(edge_index)\n",
    "print(edge_type)\n",
    "print(des_tensor)\n",
    "# print(shuffled_edge_index)\n",
    "# print(shuffled_edge_type)"
   ]
  },
  {
   "cell_type": "code",
   "execution_count": 6,
   "metadata": {},
   "outputs": [
    {
     "name": "stdout",
     "output_type": "stream",
     "text": [
      "torch.Size([279886, 4])\n",
      "torch.Size([279886, 3])\n",
      "torch.Size([2, 2298309])\n",
      "torch.Size([2298309])\n",
      "torch.Size([279886, 768])\n"
     ]
    }
   ],
   "source": [
    "print(num_prop.shape)\n",
    "print(category_prop.shape)\n",
    "print(edge_index.shape)\n",
    "print(edge_type.shape)\n",
    "print(des_tensor.shape)\n",
    "# print(shuffled_edge_index.shape)\n",
    "# print(shuffled_edge_type.shape)"
   ]
  },
  {
   "cell_type": "code",
   "execution_count": 12,
   "metadata": {},
   "outputs": [
    {
     "data": {
      "text/plain": [
       "BotRGCN(\n",
       "  (linear_relu_des): Sequential(\n",
       "    (0): Linear(in_features=768, out_features=10, bias=True)\n",
       "    (1): LeakyReLU(negative_slope=0.01)\n",
       "  )\n",
       "  (linear_relu_num_prop): Sequential(\n",
       "    (0): Linear(in_features=4, out_features=10, bias=True)\n",
       "    (1): LeakyReLU(negative_slope=0.01)\n",
       "  )\n",
       "  (linear_relu_cat_prop): Sequential(\n",
       "    (0): Linear(in_features=3, out_features=10, bias=True)\n",
       "    (1): LeakyReLU(negative_slope=0.01)\n",
       "  )\n",
       "  (linear_relu_input): Sequential(\n",
       "    (0): Linear(in_features=30, out_features=30, bias=True)\n",
       "    (1): LeakyReLU(negative_slope=0.01)\n",
       "  )\n",
       "  (rgcn): RGCNConv(30, 30, num_relations=3)\n",
       "  (linear_relu_output1): Sequential(\n",
       "    (0): Linear(in_features=30, out_features=30, bias=True)\n",
       "    (1): LeakyReLU(negative_slope=0.01)\n",
       "  )\n",
       "  (linear_output2): Linear(in_features=30, out_features=2, bias=True)\n",
       ")"
      ]
     },
     "execution_count": 12,
     "metadata": {},
     "output_type": "execute_result"
    }
   ],
   "source": [
    "rgcn_model=BotRGCN(cat_prop_size=3,embedding_dimension=30, num_relations=3).to(device)\n",
    "loss=nn.CrossEntropyLoss()\n",
    "optimizer = torch.optim.AdamW(rgcn_model.parameters(),\n",
    "                    lr=lr,weight_decay=weight_decay)\n",
    "\n",
    "rgcn_model.apply(init_weights)"
   ]
  },
  {
   "cell_type": "code",
   "execution_count": 8,
   "metadata": {},
   "outputs": [],
   "source": [
    "def train_rgcn(epoch, optimizer, train_edge_index, edge_type):\n",
    "    rgcn_model.train()\n",
    "    output = rgcn_model(des_tensor, tweets_tensor, num_prop, category_prop, train_edge_index, edge_type)\n",
    "    loss_train = loss(output[train_idx], labels[train_idx])\n",
    "    acc_train = accuracy(output[train_idx], labels[train_idx])\n",
    "    acc_val = accuracy(output[val_idx], labels[val_idx])\n",
    "    \n",
    "    optimizer.zero_grad()\n",
    "    loss_train.backward()\n",
    "    optimizer.step()\n",
    "    \n",
    "    print('Epoch: {:04d}'.format(epoch+1),\n",
    "          'loss_train: {:.4f}'.format(loss_train.item()),\n",
    "          'acc_train: {:.4f}'.format(acc_train.item()),\n",
    "          'acc_val: {:.4f}'.format(acc_val.item()))\n",
    "    \n",
    "    return acc_train, loss_train"
   ]
  },
  {
   "cell_type": "code",
   "execution_count": 9,
   "metadata": {},
   "outputs": [],
   "source": [
    "import numpy as np\n",
    "\n",
    "def test_rgcn(test_edge_index, edge_type):\n",
    "    rgcn_model.eval()\n",
    "    output = rgcn_model(des_tensor, tweets_tensor, num_prop, category_prop, test_edge_index, edge_type)\n",
    "    loss_test = loss(output[test_idx], labels[test_idx])\n",
    "    acc_test = accuracy(output[test_idx], labels[test_idx])\n",
    "    \n",
    "    output = output.max(1)[1].to('cpu').detach().numpy()\n",
    "    label = labels.to('cpu').detach().numpy()\n",
    "    \n",
    "    f1 = f1_score(label[test_idx], output[test_idx])\n",
    "    precision = precision_score(label[test_idx], output[test_idx])\n",
    "    recall = recall_score(label[test_idx], output[test_idx])\n",
    "    \n",
    "    fpr, tpr, thresholds = roc_curve(label[test_idx], output[test_idx], pos_label=1)\n",
    "    auc_val = auc(fpr, tpr)\n",
    "    \n",
    "    print(\"Test set results:\",\n",
    "          \"test_loss= {:.4f}\".format(loss_test.item()),\n",
    "          \"test_accuracy= {:.4f}\".format(acc_test.item()),\n",
    "          \"precision= {:.4f}\".format(precision.item()),\n",
    "          \"recall= {:.4f}\".format(recall.item()),\n",
    "          \"f1_score= {:.4f}\".format(f1.item()),\n",
    "          \"auc= {:.4f}\".format(auc_val.item()))"
   ]
  },
  {
   "cell_type": "code",
   "execution_count": 10,
   "metadata": {},
   "outputs": [],
   "source": [
    "# #In case we want to split edges\n",
    "\n",
    "# num_edges = edge_index.size(1)\n",
    "# indices = torch.arange(num_edges)\n",
    "\n",
    "# train_indices, test_indices = train_test_split(indices.numpy(), test_size=0.2, random_state=42)\n",
    "\n",
    "# train_edge_index = edge_index[:, train_indices]\n",
    "# test_edge_index = edge_index[:, test_indices]"
   ]
  },
  {
   "attachments": {},
   "cell_type": "markdown",
   "metadata": {},
   "source": [
    "FOLLOWER-FOLLOWING"
   ]
  },
  {
   "cell_type": "code",
   "execution_count": 11,
   "metadata": {},
   "outputs": [
    {
     "name": "stdout",
     "output_type": "stream",
     "text": [
      "Epoch: 0001 loss_train: 1.5536 acc_train: 0.4790 acc_val: 0.4852\n",
      "Epoch: 0002 loss_train: 1.4190 acc_train: 0.6676 acc_val: 0.0097\n",
      "Epoch: 0003 loss_train: 0.8478 acc_train: 0.6708 acc_val: 0.0304\n",
      "Epoch: 0004 loss_train: 0.6673 acc_train: 0.6546 acc_val: 0.2120\n",
      "Epoch: 0005 loss_train: 0.6580 acc_train: 0.6288 acc_val: 0.4957\n",
      "Epoch: 0006 loss_train: 0.6364 acc_train: 0.6501 acc_val: 0.5496\n",
      "Epoch: 0007 loss_train: 0.5994 acc_train: 0.6980 acc_val: 0.4374\n",
      "Epoch: 0008 loss_train: 0.5664 acc_train: 0.7202 acc_val: 0.3138\n",
      "Epoch: 0009 loss_train: 0.5492 acc_train: 0.7276 acc_val: 0.2489\n",
      "Epoch: 0010 loss_train: 0.5372 acc_train: 0.7371 acc_val: 0.2651\n",
      "Epoch: 0011 loss_train: 0.5186 acc_train: 0.7511 acc_val: 0.3615\n",
      "Epoch: 0012 loss_train: 0.5052 acc_train: 0.7568 acc_val: 0.4932\n",
      "Epoch: 0013 loss_train: 0.4943 acc_train: 0.7631 acc_val: 0.5583\n",
      "Epoch: 0014 loss_train: 0.4737 acc_train: 0.7807 acc_val: 0.5688\n",
      "Epoch: 0015 loss_train: 0.4580 acc_train: 0.7952 acc_val: 0.5585\n",
      "Epoch: 0016 loss_train: 0.4455 acc_train: 0.8064 acc_val: 0.5629\n",
      "Epoch: 0017 loss_train: 0.4288 acc_train: 0.8118 acc_val: 0.5994\n",
      "Epoch: 0018 loss_train: 0.4154 acc_train: 0.8135 acc_val: 0.6419\n",
      "Epoch: 0019 loss_train: 0.4115 acc_train: 0.8123 acc_val: 0.6728\n",
      "Epoch: 0020 loss_train: 0.4008 acc_train: 0.8182 acc_val: 0.6741\n",
      "Epoch: 0021 loss_train: 0.3913 acc_train: 0.8255 acc_val: 0.6511\n",
      "Epoch: 0022 loss_train: 0.3829 acc_train: 0.8339 acc_val: 0.6174\n",
      "Epoch: 0023 loss_train: 0.3781 acc_train: 0.8388 acc_val: 0.5979\n",
      "Epoch: 0024 loss_train: 0.3726 acc_train: 0.8413 acc_val: 0.5956\n",
      "Epoch: 0025 loss_train: 0.3671 acc_train: 0.8426 acc_val: 0.6127\n",
      "Epoch: 0026 loss_train: 0.3642 acc_train: 0.8444 acc_val: 0.6272\n",
      "Epoch: 0027 loss_train: 0.3607 acc_train: 0.8454 acc_val: 0.6355\n",
      "Epoch: 0028 loss_train: 0.3559 acc_train: 0.8476 acc_val: 0.6323\n",
      "Epoch: 0029 loss_train: 0.3515 acc_train: 0.8501 acc_val: 0.6202\n",
      "Epoch: 0030 loss_train: 0.3472 acc_train: 0.8527 acc_val: 0.6092\n",
      "Epoch: 0031 loss_train: 0.3415 acc_train: 0.8542 acc_val: 0.6088\n",
      "Epoch: 0032 loss_train: 0.3363 acc_train: 0.8554 acc_val: 0.6184\n",
      "Epoch: 0033 loss_train: 0.3308 acc_train: 0.8584 acc_val: 0.6367\n",
      "Epoch: 0034 loss_train: 0.3271 acc_train: 0.8601 acc_val: 0.6541\n",
      "Epoch: 0035 loss_train: 0.3226 acc_train: 0.8624 acc_val: 0.6632\n",
      "Epoch: 0036 loss_train: 0.3192 acc_train: 0.8640 acc_val: 0.6610\n",
      "Epoch: 0037 loss_train: 0.3166 acc_train: 0.8656 acc_val: 0.6559\n",
      "Epoch: 0038 loss_train: 0.3139 acc_train: 0.8664 acc_val: 0.6529\n",
      "Epoch: 0039 loss_train: 0.3120 acc_train: 0.8684 acc_val: 0.6538\n",
      "Epoch: 0040 loss_train: 0.3091 acc_train: 0.8690 acc_val: 0.6643\n",
      "Epoch: 0041 loss_train: 0.3069 acc_train: 0.8701 acc_val: 0.6799\n",
      "Epoch: 0042 loss_train: 0.3050 acc_train: 0.8705 acc_val: 0.6927\n",
      "Epoch: 0043 loss_train: 0.3023 acc_train: 0.8718 acc_val: 0.6990\n",
      "Epoch: 0044 loss_train: 0.2994 acc_train: 0.8738 acc_val: 0.6951\n",
      "Epoch: 0045 loss_train: 0.2982 acc_train: 0.8744 acc_val: 0.6888\n",
      "Epoch: 0046 loss_train: 0.2958 acc_train: 0.8759 acc_val: 0.6851\n",
      "Epoch: 0047 loss_train: 0.2949 acc_train: 0.8764 acc_val: 0.6891\n",
      "Epoch: 0048 loss_train: 0.2933 acc_train: 0.8763 acc_val: 0.6999\n",
      "Epoch: 0049 loss_train: 0.2925 acc_train: 0.8777 acc_val: 0.7080\n",
      "Epoch: 0050 loss_train: 0.2904 acc_train: 0.8778 acc_val: 0.7058\n",
      "Test set results: test_loss= 0.6219 test_accuracy= 0.7293 precision= 0.7227 recall= 0.7419 f1_score= 0.7322 auc= 0.7293\n"
     ]
    }
   ],
   "source": [
    "epochs = 50\n",
    "\n",
    "for epoch in range(epochs):\n",
    "    train_rgcn(epoch, optimizer, edge_index, edge_type)\n",
    "    \n",
    "test_rgcn(edge_index, edge_type)"
   ]
  },
  {
   "attachments": {},
   "cell_type": "markdown",
   "metadata": {},
   "source": [
    "ALL"
   ]
  },
  {
   "cell_type": "code",
   "execution_count": 13,
   "metadata": {},
   "outputs": [],
   "source": [
    "all_edge_index = torch.load(path + \"all_combined_edge_index.pt\").to(device)\n",
    "all_edge_type = torch.load(path + \"all_combined_edge_type.pt\").to(device)\n"
   ]
  },
  {
   "cell_type": "code",
   "execution_count": 14,
   "metadata": {},
   "outputs": [
    {
     "name": "stdout",
     "output_type": "stream",
     "text": [
      "Epoch: 0001 loss_train: 0.8601 acc_train: 0.6176 acc_val: 0.1929\n",
      "Epoch: 0002 loss_train: 1.0340 acc_train: 0.4519 acc_val: 0.8656\n",
      "Epoch: 0003 loss_train: 0.6664 acc_train: 0.6601 acc_val: 0.2434\n",
      "Epoch: 0004 loss_train: 0.6968 acc_train: 0.6734 acc_val: 0.1209\n",
      "Epoch: 0005 loss_train: 0.6157 acc_train: 0.6852 acc_val: 0.1539\n",
      "Epoch: 0006 loss_train: 0.5631 acc_train: 0.7067 acc_val: 0.4353\n",
      "Epoch: 0007 loss_train: 0.5507 acc_train: 0.7230 acc_val: 0.5624\n",
      "Epoch: 0008 loss_train: 0.5009 acc_train: 0.7631 acc_val: 0.4811\n",
      "Epoch: 0009 loss_train: 0.4837 acc_train: 0.7803 acc_val: 0.4060\n",
      "Epoch: 0010 loss_train: 0.4569 acc_train: 0.7936 acc_val: 0.4699\n",
      "Epoch: 0011 loss_train: 0.4372 acc_train: 0.8017 acc_val: 0.5795\n",
      "Epoch: 0012 loss_train: 0.4246 acc_train: 0.8078 acc_val: 0.6336\n",
      "Epoch: 0013 loss_train: 0.4026 acc_train: 0.8222 acc_val: 0.6199\n",
      "Epoch: 0014 loss_train: 0.3883 acc_train: 0.8318 acc_val: 0.5863\n",
      "Epoch: 0015 loss_train: 0.3788 acc_train: 0.8374 acc_val: 0.5891\n",
      "Epoch: 0016 loss_train: 0.3626 acc_train: 0.8434 acc_val: 0.6407\n",
      "Epoch: 0017 loss_train: 0.3571 acc_train: 0.8450 acc_val: 0.6944\n",
      "Epoch: 0018 loss_train: 0.3479 acc_train: 0.8503 acc_val: 0.6945\n",
      "Epoch: 0019 loss_train: 0.3399 acc_train: 0.8556 acc_val: 0.6589\n",
      "Epoch: 0020 loss_train: 0.3355 acc_train: 0.8580 acc_val: 0.6458\n",
      "Epoch: 0021 loss_train: 0.3288 acc_train: 0.8608 acc_val: 0.6652\n",
      "Epoch: 0022 loss_train: 0.3260 acc_train: 0.8615 acc_val: 0.6989\n",
      "Epoch: 0023 loss_train: 0.3221 acc_train: 0.8640 acc_val: 0.7042\n",
      "Epoch: 0024 loss_train: 0.3169 acc_train: 0.8672 acc_val: 0.6747\n",
      "Epoch: 0025 loss_train: 0.3146 acc_train: 0.8689 acc_val: 0.6547\n",
      "Epoch: 0026 loss_train: 0.3105 acc_train: 0.8709 acc_val: 0.6638\n",
      "Epoch: 0027 loss_train: 0.3076 acc_train: 0.8718 acc_val: 0.6904\n",
      "Epoch: 0028 loss_train: 0.3046 acc_train: 0.8734 acc_val: 0.7010\n",
      "Epoch: 0029 loss_train: 0.3004 acc_train: 0.8753 acc_val: 0.6849\n",
      "Epoch: 0030 loss_train: 0.2975 acc_train: 0.8773 acc_val: 0.6653\n",
      "Epoch: 0031 loss_train: 0.2947 acc_train: 0.8779 acc_val: 0.6667\n",
      "Epoch: 0032 loss_train: 0.2920 acc_train: 0.8790 acc_val: 0.6841\n",
      "Epoch: 0033 loss_train: 0.2900 acc_train: 0.8797 acc_val: 0.6983\n",
      "Epoch: 0034 loss_train: 0.2883 acc_train: 0.8807 acc_val: 0.6929\n",
      "Epoch: 0035 loss_train: 0.2859 acc_train: 0.8818 acc_val: 0.6759\n",
      "Epoch: 0036 loss_train: 0.2849 acc_train: 0.8825 acc_val: 0.6735\n",
      "Epoch: 0037 loss_train: 0.2819 acc_train: 0.8829 acc_val: 0.6908\n",
      "Epoch: 0038 loss_train: 0.2806 acc_train: 0.8840 acc_val: 0.7089\n",
      "Epoch: 0039 loss_train: 0.2781 acc_train: 0.8849 acc_val: 0.7037\n",
      "Epoch: 0040 loss_train: 0.2768 acc_train: 0.8859 acc_val: 0.6921\n",
      "Epoch: 0041 loss_train: 0.2758 acc_train: 0.8865 acc_val: 0.6952\n",
      "Epoch: 0042 loss_train: 0.2746 acc_train: 0.8864 acc_val: 0.7085\n",
      "Epoch: 0043 loss_train: 0.2729 acc_train: 0.8874 acc_val: 0.7122\n",
      "Epoch: 0044 loss_train: 0.2717 acc_train: 0.8885 acc_val: 0.6984\n",
      "Epoch: 0045 loss_train: 0.2699 acc_train: 0.8897 acc_val: 0.6944\n",
      "Epoch: 0046 loss_train: 0.2697 acc_train: 0.8891 acc_val: 0.7036\n",
      "Epoch: 0047 loss_train: 0.2685 acc_train: 0.8899 acc_val: 0.7086\n",
      "Epoch: 0048 loss_train: 0.2667 acc_train: 0.8905 acc_val: 0.6999\n",
      "Epoch: 0049 loss_train: 0.2658 acc_train: 0.8908 acc_val: 0.6966\n",
      "Epoch: 0050 loss_train: 0.2649 acc_train: 0.8912 acc_val: 0.7030\n",
      "Test set results: test_loss= 0.6184 test_accuracy= 0.7352 precision= 0.7308 recall= 0.7426 f1_score= 0.7367 auc= 0.7352\n"
     ]
    }
   ],
   "source": [
    "epochs = 50\n",
    "\n",
    "for epoch in range(epochs):\n",
    "    train_rgcn(epoch, optimizer, all_edge_index, all_edge_type)\n",
    "    \n",
    "test_rgcn(all_edge_index, all_edge_type)"
   ]
  },
  {
   "cell_type": "code",
   "execution_count": null,
   "metadata": {},
   "outputs": [],
   "source": []
  }
 ],
 "metadata": {
  "kernelspec": {
   "display_name": "Python 3",
   "language": "python",
   "name": "python3"
  },
  "language_info": {
   "codemirror_mode": {
    "name": "ipython",
    "version": 3
   },
   "file_extension": ".py",
   "mimetype": "text/x-python",
   "name": "python",
   "nbconvert_exporter": "python",
   "pygments_lexer": "ipython3",
   "version": "3.11.7"
  },
  "orig_nbformat": 4
 },
 "nbformat": 4,
 "nbformat_minor": 2
}
