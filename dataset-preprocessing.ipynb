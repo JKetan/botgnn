{
 "cells": [
  {
   "cell_type": "code",
   "execution_count": null,
   "metadata": {},
   "outputs": [],
   "source": [
    "import pandas as pd\n",
    "import torch\n",
    "from tqdm import tqdm"
   ]
  },
  {
   "cell_type": "code",
   "execution_count": null,
   "metadata": {},
   "outputs": [],
   "source": [
    "path = \"/Twibot-22/\""
   ]
  },
  {
   "cell_type": "code",
   "execution_count": null,
   "metadata": {},
   "outputs": [],
   "source": [
    "full_label = pd.read_csv(path + \"label.csv\")\n",
    "user_data = pd.read_json(path + \"user.json\")\n",
    "split_df = pd.read_csv(path + \"split.csv\")"
   ]
  },
  {
   "attachments": {},
   "cell_type": "markdown",
   "metadata": {},
   "source": [
    "Used downsampling to balance (equal users and bots)"
   ]
  },
  {
   "cell_type": "code",
   "execution_count": null,
   "metadata": {},
   "outputs": [],
   "source": [
    "human_samples = full_label[full_label['label'] == 'human']\n",
    "bot_samples = full_label[full_label['label'] == 'bot']\n",
    "\n",
    "# Determine the minimum number of samples between human and bot\n",
    "min_samples = min(len(human_samples), len(bot_samples))\n",
    "\n",
    "# Sample an equal number of human and bot samples\n",
    "balanced_df = pd.concat([human_samples.sample(min_samples), bot_samples.sample(min_samples)])\n",
    "\n",
    "# Shuffle the balanced dataset\n",
    "balanced_df = balanced_df.sample(frac=1).reset_index(drop=True)\n",
    "\n",
    "print('Filtered Length: ', len(balanced_df))\n",
    "\n",
    "balanced_df.to_csv(\"filtered_label.csv\", index=False)"
   ]
  },
  {
   "cell_type": "code",
   "execution_count": null,
   "metadata": {},
   "outputs": [],
   "source": [
    "user_ids = balanced_df['id'].tolist()\n",
    "\n",
    "filtered_user_data = user_data[user_data['id'].isin(user_ids)]\n",
    "\n",
    "# Save the filtered user data to a new JSON file\n",
    "filtered_user_data.to_json(\"filtered_user.json\", orient=\"records\", lines=True)"
   ]
  },
  {
   "cell_type": "code",
   "execution_count": null,
   "metadata": {},
   "outputs": [],
   "source": [
    "filtered_split_df = split_df[split_df['id'].isin(user_ids)]\n",
    "\n",
    "# Count the number of samples in each split\n",
    "split_counts = filtered_split_df['split'].value_counts()\n",
    "\n",
    "# Balance the splits to match the standard train-test-val split\n",
    "# Assuming standard split ratios of 70% train, 15% test, and 15% val\n",
    "standard_split_ratios = {'train': 0.7, 'test': 0.15, 'val': 0.15}\n",
    "balanced_split_dfs = []\n",
    "\n",
    "for split_name, split_ratio in standard_split_ratios.items():\n",
    "    split_count = int(split_counts.sum() * split_ratio)\n",
    "    split_df_subset = filtered_split_df[filtered_split_df['split'] == split_name].sample(n=split_count, replace=True)\n",
    "    balanced_split_dfs.append(split_df_subset)\n",
    "\n",
    "# Concatenate the balanced splits into a single DataFrame\n",
    "balanced_split_df = pd.concat(balanced_split_dfs)\n",
    "\n",
    "# Save the balanced split data to a new CSV file\n",
    "balanced_split_df.to_csv(\"balanced_split.csv\", index=False)"
   ]
  },
  {
   "cell_type": "code",
   "execution_count": null,
   "metadata": {},
   "outputs": [],
   "source": [
    "selected_indices = full_label[full_label['id'].isin(user_ids)].index.tolist()\n",
    "\n",
    "selected_indices_df = pd.DataFrame({'original_index': selected_indices})\n",
    "selected_indices_df.to_csv(\"selected_indices.csv\", index=False)"
   ]
  }
 ],
 "metadata": {
  "language_info": {
   "name": "python"
  },
  "orig_nbformat": 4
 },
 "nbformat": 4,
 "nbformat_minor": 2
}
