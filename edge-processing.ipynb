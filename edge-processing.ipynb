{
 "cells": [
  {
   "cell_type": "code",
   "execution_count": null,
   "metadata": {},
   "outputs": [],
   "source": [
    "import pandas as pd\n",
    "import torch\n",
    "from tqdm import tqdm"
   ]
  },
  {
   "cell_type": "code",
   "execution_count": null,
   "metadata": {},
   "outputs": [],
   "source": [
    "path = \"/Twibot-22/\""
   ]
  },
  {
   "cell_type": "code",
   "execution_count": null,
   "metadata": {},
   "outputs": [],
   "source": [
    "filtered_edge_df = pd.read_csv(path + \"filtered_edge.csv\")\n",
    "filtered_interactions_edge_df = pd.read_csv(path + \"filtered_interactions.csv\")\n",
    "ids = pd.read_csv(path + \"sampled_ids.csv\")"
   ]
  },
  {
   "cell_type": "code",
   "execution_count": null,
   "metadata": {},
   "outputs": [],
   "source": [
    "all_combined_df = pd.concat([filtered_edge_df, filtered_interactions_edge_df]).sample(frac=1)"
   ]
  },
  {
   "cell_type": "code",
   "execution_count": null,
   "metadata": {},
   "outputs": [],
   "source": [
    "follower_edge_index = []\n",
    "following_edge_index = []\n",
    "interaction_edge_index = []\n",
    "\n",
    "edge_index=[]\n",
    "edge_type=[]\n",
    "user_idx=ids\n",
    "uid_index={uid:index for index,uid in enumerate(user_idx)}\n",
    "\n",
    "for index, row in tqdm(all_combined_df.iterrows(), total=all_combined_df.shape[0]):\n",
    "    sid = row['source_id']\n",
    "    tid = row['target_id']\n",
    "    relation = row['relation']\n",
    "    if relation=='followers':\n",
    "        try:\n",
    "            edge_index.append([uid_index[sid],uid_index[tid]])\n",
    "            follower_edge_index.append([uid_index[sid],uid_index[tid]])\n",
    "            edge_type.append(0)\n",
    "        except KeyError:\n",
    "            continue\n",
    "    elif relation=='following':\n",
    "        try:\n",
    "            edge_index.append([uid_index[sid],uid_index[tid]])\n",
    "            following_edge_index.append([uid_index[sid],uid_index[tid]])\n",
    "            edge_type.append(1)\n",
    "        except KeyError:\n",
    "            continue\n",
    "    elif relation=='userlike':\n",
    "        try:\n",
    "            edge_index.append([uid_index[sid],uid_index[tid]])\n",
    "            interaction_edge_index.append([uid_index[sid],uid_index[tid]])\n",
    "            edge_type.append(2)\n",
    "        except KeyError:\n",
    "            continue\n",
    "\n",
    "torch.save(torch.LongTensor(edge_index).t(),\"follower_edge_index.pt\")\n",
    "torch.save(torch.LongTensor(edge_index).t(),\"following_edge_index.pt\")\n",
    "torch.save(torch.LongTensor(edge_index).t(),\"interaction_edge_index.pt\")\n",
    "\n",
    "torch.save(torch.LongTensor(edge_index).t(),\"all_combined_edge_index.pt\")\n",
    "torch.save(torch.LongTensor(edge_type),\"all_combined_edge_type.pt\")"
   ]
  }
 ],
 "metadata": {
  "language_info": {
   "name": "python"
  },
  "orig_nbformat": 4
 },
 "nbformat": 4,
 "nbformat_minor": 2
}
