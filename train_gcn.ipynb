{
 "cells": [
  {
   "cell_type": "code",
   "execution_count": 10,
   "metadata": {},
   "outputs": [],
   "source": [
    "import torch\n",
    "from torch import nn\n",
    "\n",
    "from sklearn.metrics import f1_score\n",
    "from sklearn.metrics import matthews_corrcoef\n",
    "from sklearn.metrics import precision_score\n",
    "from sklearn.metrics import recall_score\n",
    "from sklearn.metrics import roc_curve,auc\n",
    "\n",
    "from sklearn.model_selection import train_test_split\n",
    "\n",
    "from gcn-model import BotGCN_Single\n",
    "from utils import accuracy, init_weights"
   ]
  },
  {
   "cell_type": "code",
   "execution_count": 11,
   "metadata": {},
   "outputs": [],
   "source": [
    "device = 'cpu'\n",
    "embedding_size = 32\n",
    "dropout = 0.1\n",
    "lr = 1e-2\n",
    "weight_decay = 5e-2"
   ]
  },
  {
   "cell_type": "code",
   "execution_count": 12,
   "metadata": {},
   "outputs": [],
   "source": [
    "path = \"/Dataset/\"\n",
    "#Re calculate Des Tensor\n",
    "des_tensor = torch.load(path + \"filtered_des_tensor.pt\").t().to(device)\n",
    "\n",
    "num_prop = torch.load(path + \"filtered_num_properties_tensor.pt\").t().to(device)\n",
    "category_prop = torch.load(path + \"filtered_cat_properties_tensor.pt\").t().to(device)\n",
    "labels = torch.load(path + \"filtered_label.pt\").t().to(device)\n",
    "\n",
    "tweets_tensor = torch.load(\"/Users/ketanjadhav/Documents/BotRGCN/processed_data/tweets_tensor.pt\").to(device)\n",
    "\n",
    "train_idx = torch.load(path + \"filtered_train_idx.pt\").t().to(device)\n",
    "val_idx = torch.load(path + \"filtered_val_idx.pt\").t().to(device)\n",
    "test_idx = torch.load(path + \"filtered_test_idx.pt\").t().to(device)"
   ]
  },
  {
   "cell_type": "code",
   "execution_count": null,
   "metadata": {},
   "outputs": [],
   "source": []
  },
  {
   "cell_type": "code",
   "execution_count": 13,
   "metadata": {},
   "outputs": [],
   "source": [
    "followers_edge_index = torch.load(\"./dataset/New Dataset/filtered_followers_edge_index.pt\").to(device)\n",
    "following_edge_index = torch.load(\"./dataset/New Dataset/filtered_following_edge_index.pt\").to(device)\n",
    "interactions_edge_index = torch.load(\"./dataset/New Dataset/filtered_interaction_edge_index.pt\").to(device)"
   ]
  },
  {
   "cell_type": "code",
   "execution_count": 14,
   "metadata": {},
   "outputs": [
    {
     "data": {
      "text/plain": [
       "BotGCN_Single(\n",
       "  (linear_relu_des): Sequential(\n",
       "    (0): Linear(in_features=768, out_features=10, bias=True)\n",
       "    (1): LeakyReLU(negative_slope=0.01)\n",
       "  )\n",
       "  (linear_relu_num_prop): Sequential(\n",
       "    (0): Linear(in_features=4, out_features=10, bias=True)\n",
       "    (1): LeakyReLU(negative_slope=0.01)\n",
       "  )\n",
       "  (linear_relu_cat_prop): Sequential(\n",
       "    (0): Linear(in_features=3, out_features=10, bias=True)\n",
       "    (1): LeakyReLU(negative_slope=0.01)\n",
       "  )\n",
       "  (linear_relu_input): Sequential(\n",
       "    (0): Linear(in_features=30, out_features=30, bias=True)\n",
       "    (1): LeakyReLU(negative_slope=0.01)\n",
       "  )\n",
       "  (rgcn1): GCNConv(30, 30)\n",
       "  (rgcn2): GCNConv(30, 30)\n",
       "  (linear_relu_output1): Sequential(\n",
       "    (0): Linear(in_features=30, out_features=30, bias=True)\n",
       "    (1): LeakyReLU(negative_slope=0.01)\n",
       "  )\n",
       "  (linear_output2): Linear(in_features=30, out_features=2, bias=True)\n",
       ")"
      ]
     },
     "execution_count": 14,
     "metadata": {},
     "output_type": "execute_result"
    }
   ],
   "source": [
    "gcn_model=BotGCN_Single(cat_prop_size=3,embedding_dimension=30).to(device)\n",
    "loss=nn.CrossEntropyLoss()\n",
    "optimizer = torch.optim.AdamW(gcn_model.parameters(),\n",
    "                    lr=lr,weight_decay=weight_decay)\n",
    "\n",
    "gcn_model.apply(init_weights)"
   ]
  },
  {
   "cell_type": "code",
   "execution_count": 15,
   "metadata": {},
   "outputs": [],
   "source": [
    "def train_gcn(epoch, optimizer, train_edge_index):\n",
    "    gcn_model.train()\n",
    "    output = gcn_model(des_tensor, tweets_tensor, num_prop, category_prop, train_edge_index)\n",
    "    loss_train = loss(output[train_idx], labels[train_idx])\n",
    "    acc_train = accuracy(output[train_idx], labels[train_idx])\n",
    "    acc_val = accuracy(output[val_idx], labels[val_idx])\n",
    "    \n",
    "    optimizer.zero_grad()\n",
    "    loss_train.backward()\n",
    "    optimizer.step()\n",
    "    \n",
    "    print('Epoch: {:04d}'.format(epoch+1),\n",
    "          'loss_train: {:.4f}'.format(loss_train.item()),\n",
    "          'acc_train: {:.4f}'.format(acc_train.item()),\n",
    "          'acc_val: {:.4f}'.format(acc_val.item()))\n",
    "    \n",
    "    return acc_train, loss_train"
   ]
  },
  {
   "cell_type": "code",
   "execution_count": 16,
   "metadata": {},
   "outputs": [],
   "source": [
    "import numpy as np\n",
    "\n",
    "def test_gcn(test_edge_index):\n",
    "    gcn_model.eval()\n",
    "    output = gcn_model(des_tensor, tweets_tensor, num_prop, category_prop, test_edge_index)\n",
    "    loss_test = loss(output[test_idx], labels[test_idx])\n",
    "    \n",
    "    acc_test = accuracy(output[test_idx], labels[test_idx])\n",
    "    \n",
    "    output = output.max(1)[1].to('cpu').detach().numpy()\n",
    "\n",
    "    label = labels.to('cpu').detach().numpy()\n",
    "    \n",
    "    f1 = f1_score(label[test_idx], output[test_idx])\n",
    "    precision = precision_score(label[test_idx], output[test_idx])\n",
    "    recall = recall_score(label[test_idx], output[test_idx])\n",
    "    \n",
    "    fpr, tpr, thresholds = roc_curve(label[test_idx], output[test_idx], pos_label=1)\n",
    "    auc_val = auc(fpr, tpr)\n",
    "    \n",
    "    print(\"Test set results:\",\n",
    "          \"test_loss= {:.4f}\".format(loss_test.item()),\n",
    "          \"test_accuracy= {:.4f}\".format(acc_test.item()),\n",
    "          \"precision= {:.4f}\".format(precision.item()),\n",
    "          \"recall= {:.4f}\".format(recall.item()),\n",
    "          \"f1_score= {:.4f}\".format(f1.item()),\n",
    "          \"auc= {:.4f}\".format(auc_val.item()))"
   ]
  },
  {
   "cell_type": "code",
   "execution_count": 17,
   "metadata": {},
   "outputs": [],
   "source": [
    "#In case we want to split edges\n",
    "\n",
    "# num_edges = followers_edge_index.size(1)\n",
    "# indices = torch.arange(num_edges)\n",
    "\n",
    "# train_indices, test_indices = train_test_split(indices.numpy(), test_size=0.2, random_state=42)\n",
    "\n",
    "# train_edge_index = followers_edge_index[:, train_indices]\n",
    "# test_edge_index = followers_edge_index[:, test_indices]"
   ]
  },
  {
   "attachments": {},
   "cell_type": "markdown",
   "metadata": {},
   "source": [
    "FOLLOWERS"
   ]
  },
  {
   "cell_type": "code",
   "execution_count": 18,
   "metadata": {},
   "outputs": [
    {
     "name": "stdout",
     "output_type": "stream",
     "text": [
      "Epoch: 0001 loss_train: 0.6809 acc_train: 0.6589 acc_val: 0.0430\n",
      "Epoch: 0002 loss_train: 0.9107 acc_train: 0.4229 acc_val: 0.9507\n",
      "Epoch: 0003 loss_train: 0.6180 acc_train: 0.6840 acc_val: 0.0682\n",
      "Epoch: 0004 loss_train: 0.6748 acc_train: 0.6718 acc_val: 0.0089\n",
      "Epoch: 0005 loss_train: 0.6457 acc_train: 0.6717 acc_val: 0.0084\n",
      "Epoch: 0006 loss_train: 0.6068 acc_train: 0.6764 acc_val: 0.0315\n",
      "Epoch: 0007 loss_train: 0.6122 acc_train: 0.6856 acc_val: 0.1748\n",
      "Epoch: 0008 loss_train: 0.6213 acc_train: 0.6845 acc_val: 0.2491\n",
      "Epoch: 0009 loss_train: 0.6014 acc_train: 0.6975 acc_val: 0.1508\n",
      "Epoch: 0010 loss_train: 0.5893 acc_train: 0.6902 acc_val: 0.0682\n",
      "Epoch: 0011 loss_train: 0.5920 acc_train: 0.6804 acc_val: 0.0349\n",
      "Epoch: 0012 loss_train: 0.5944 acc_train: 0.6775 acc_val: 0.0237\n",
      "Epoch: 0013 loss_train: 0.5886 acc_train: 0.6784 acc_val: 0.0274\n",
      "Epoch: 0014 loss_train: 0.5819 acc_train: 0.6838 acc_val: 0.0435\n",
      "Epoch: 0015 loss_train: 0.5776 acc_train: 0.6935 acc_val: 0.0751\n",
      "Epoch: 0016 loss_train: 0.5757 acc_train: 0.7063 acc_val: 0.1180\n",
      "Epoch: 0017 loss_train: 0.5732 acc_train: 0.7163 acc_val: 0.1563\n",
      "Epoch: 0018 loss_train: 0.5680 acc_train: 0.7231 acc_val: 0.1824\n",
      "Epoch: 0019 loss_train: 0.5593 acc_train: 0.7265 acc_val: 0.1908\n",
      "Epoch: 0020 loss_train: 0.5533 acc_train: 0.7284 acc_val: 0.1932\n",
      "Epoch: 0021 loss_train: 0.5497 acc_train: 0.7315 acc_val: 0.2051\n",
      "Epoch: 0022 loss_train: 0.5453 acc_train: 0.7370 acc_val: 0.2343\n",
      "Epoch: 0023 loss_train: 0.5376 acc_train: 0.7448 acc_val: 0.2918\n",
      "Epoch: 0024 loss_train: 0.5319 acc_train: 0.7510 acc_val: 0.3708\n",
      "Epoch: 0025 loss_train: 0.5298 acc_train: 0.7515 acc_val: 0.4380\n",
      "Epoch: 0026 loss_train: 0.5247 acc_train: 0.7525 acc_val: 0.4569\n",
      "Epoch: 0027 loss_train: 0.5187 acc_train: 0.7555 acc_val: 0.4384\n",
      "Epoch: 0028 loss_train: 0.5181 acc_train: 0.7582 acc_val: 0.4171\n",
      "Epoch: 0029 loss_train: 0.5165 acc_train: 0.7596 acc_val: 0.4220\n",
      "Epoch: 0030 loss_train: 0.5115 acc_train: 0.7606 acc_val: 0.4547\n",
      "Epoch: 0031 loss_train: 0.5090 acc_train: 0.7602 acc_val: 0.4918\n",
      "Epoch: 0032 loss_train: 0.5077 acc_train: 0.7613 acc_val: 0.4981\n",
      "Epoch: 0033 loss_train: 0.5030 acc_train: 0.7646 acc_val: 0.4623\n",
      "Epoch: 0034 loss_train: 0.5002 acc_train: 0.7659 acc_val: 0.4260\n",
      "Epoch: 0035 loss_train: 0.5003 acc_train: 0.7664 acc_val: 0.4066\n",
      "Epoch: 0036 loss_train: 0.4977 acc_train: 0.7682 acc_val: 0.4127\n",
      "Epoch: 0037 loss_train: 0.4956 acc_train: 0.7694 acc_val: 0.4315\n",
      "Epoch: 0038 loss_train: 0.4944 acc_train: 0.7710 acc_val: 0.4467\n",
      "Epoch: 0039 loss_train: 0.4918 acc_train: 0.7719 acc_val: 0.4451\n",
      "Epoch: 0040 loss_train: 0.4890 acc_train: 0.7738 acc_val: 0.4311\n",
      "Epoch: 0041 loss_train: 0.4879 acc_train: 0.7741 acc_val: 0.4172\n",
      "Epoch: 0042 loss_train: 0.4862 acc_train: 0.7759 acc_val: 0.4196\n",
      "Epoch: 0043 loss_train: 0.4830 acc_train: 0.7770 acc_val: 0.4392\n",
      "Epoch: 0044 loss_train: 0.4831 acc_train: 0.7782 acc_val: 0.4581\n",
      "Epoch: 0045 loss_train: 0.4825 acc_train: 0.7780 acc_val: 0.4595\n",
      "Epoch: 0046 loss_train: 0.4799 acc_train: 0.7794 acc_val: 0.4439\n",
      "Epoch: 0047 loss_train: 0.4774 acc_train: 0.7801 acc_val: 0.4282\n",
      "Epoch: 0048 loss_train: 0.4767 acc_train: 0.7804 acc_val: 0.4249\n",
      "Epoch: 0049 loss_train: 0.4751 acc_train: 0.7817 acc_val: 0.4321\n",
      "Epoch: 0050 loss_train: 0.4738 acc_train: 0.7820 acc_val: 0.4378\n",
      "Test set results: test_loss= 0.6683 test_accuracy= 0.6342 precision= 0.7062 recall= 0.4567 f1_score= 0.5546 auc= 0.6338\n"
     ]
    }
   ],
   "source": [
    "epochs = 50\n",
    "\n",
    "for epoch in range(epochs):\n",
    "    train_gcn(epoch, optimizer, followers_edge_index)\n",
    "    \n",
    "test_gcn(followers_edge_index)"
   ]
  },
  {
   "attachments": {},
   "cell_type": "markdown",
   "metadata": {},
   "source": [
    "FOLLOWING"
   ]
  },
  {
   "cell_type": "code",
   "execution_count": 19,
   "metadata": {},
   "outputs": [
    {
     "name": "stdout",
     "output_type": "stream",
     "text": [
      "Epoch: 0001 loss_train: 0.5318 acc_train: 0.7489 acc_val: 0.3062\n",
      "Epoch: 0002 loss_train: 0.5282 acc_train: 0.7501 acc_val: 0.3144\n",
      "Epoch: 0003 loss_train: 0.5261 acc_train: 0.7503 acc_val: 0.3235\n",
      "Epoch: 0004 loss_train: 0.5245 acc_train: 0.7512 acc_val: 0.3183\n",
      "Epoch: 0005 loss_train: 0.5228 acc_train: 0.7505 acc_val: 0.3023\n",
      "Epoch: 0006 loss_train: 0.5232 acc_train: 0.7502 acc_val: 0.2978\n",
      "Epoch: 0007 loss_train: 0.5227 acc_train: 0.7510 acc_val: 0.3148\n",
      "Epoch: 0008 loss_train: 0.5220 acc_train: 0.7517 acc_val: 0.3188\n",
      "Epoch: 0009 loss_train: 0.5199 acc_train: 0.7512 acc_val: 0.2997\n",
      "Epoch: 0010 loss_train: 0.5200 acc_train: 0.7510 acc_val: 0.2852\n",
      "Epoch: 0011 loss_train: 0.5174 acc_train: 0.7514 acc_val: 0.3049\n",
      "Epoch: 0012 loss_train: 0.5170 acc_train: 0.7523 acc_val: 0.3131\n",
      "Epoch: 0013 loss_train: 0.5153 acc_train: 0.7523 acc_val: 0.2937\n",
      "Epoch: 0014 loss_train: 0.5146 acc_train: 0.7515 acc_val: 0.2867\n",
      "Epoch: 0015 loss_train: 0.5131 acc_train: 0.7528 acc_val: 0.3043\n",
      "Epoch: 0016 loss_train: 0.5134 acc_train: 0.7532 acc_val: 0.3120\n",
      "Epoch: 0017 loss_train: 0.5113 acc_train: 0.7525 acc_val: 0.2931\n",
      "Epoch: 0018 loss_train: 0.5122 acc_train: 0.7516 acc_val: 0.2840\n",
      "Epoch: 0019 loss_train: 0.5108 acc_train: 0.7531 acc_val: 0.3025\n",
      "Epoch: 0020 loss_train: 0.5103 acc_train: 0.7536 acc_val: 0.3126\n",
      "Epoch: 0021 loss_train: 0.5095 acc_train: 0.7529 acc_val: 0.2943\n",
      "Epoch: 0022 loss_train: 0.5084 acc_train: 0.7529 acc_val: 0.2907\n",
      "Epoch: 0023 loss_train: 0.5072 acc_train: 0.7536 acc_val: 0.3073\n",
      "Epoch: 0024 loss_train: 0.5063 acc_train: 0.7544 acc_val: 0.3133\n",
      "Epoch: 0025 loss_train: 0.5061 acc_train: 0.7544 acc_val: 0.3018\n",
      "Epoch: 0026 loss_train: 0.5048 acc_train: 0.7547 acc_val: 0.3031\n",
      "Epoch: 0027 loss_train: 0.5043 acc_train: 0.7550 acc_val: 0.3124\n",
      "Epoch: 0028 loss_train: 0.5033 acc_train: 0.7547 acc_val: 0.3071\n",
      "Epoch: 0029 loss_train: 0.5034 acc_train: 0.7546 acc_val: 0.2984\n",
      "Epoch: 0030 loss_train: 0.5021 acc_train: 0.7551 acc_val: 0.3100\n",
      "Epoch: 0031 loss_train: 0.5022 acc_train: 0.7552 acc_val: 0.3160\n",
      "Epoch: 0032 loss_train: 0.5013 acc_train: 0.7557 acc_val: 0.3129\n",
      "Epoch: 0033 loss_train: 0.5002 acc_train: 0.7559 acc_val: 0.3149\n",
      "Epoch: 0034 loss_train: 0.5004 acc_train: 0.7567 acc_val: 0.3189\n",
      "Epoch: 0035 loss_train: 0.4988 acc_train: 0.7563 acc_val: 0.3249\n",
      "Epoch: 0036 loss_train: 0.4980 acc_train: 0.7566 acc_val: 0.3119\n",
      "Epoch: 0037 loss_train: 0.4971 acc_train: 0.7574 acc_val: 0.3195\n",
      "Epoch: 0038 loss_train: 0.4972 acc_train: 0.7573 acc_val: 0.3188\n",
      "Epoch: 0039 loss_train: 0.4963 acc_train: 0.7574 acc_val: 0.3206\n",
      "Epoch: 0040 loss_train: 0.4957 acc_train: 0.7575 acc_val: 0.3230\n",
      "Epoch: 0041 loss_train: 0.4949 acc_train: 0.7581 acc_val: 0.3280\n",
      "Epoch: 0042 loss_train: 0.4948 acc_train: 0.7573 acc_val: 0.3322\n",
      "Epoch: 0043 loss_train: 0.4942 acc_train: 0.7584 acc_val: 0.3301\n",
      "Epoch: 0044 loss_train: 0.4937 acc_train: 0.7592 acc_val: 0.3312\n",
      "Epoch: 0045 loss_train: 0.4931 acc_train: 0.7587 acc_val: 0.3312\n",
      "Epoch: 0046 loss_train: 0.4925 acc_train: 0.7593 acc_val: 0.3306\n",
      "Epoch: 0047 loss_train: 0.4918 acc_train: 0.7594 acc_val: 0.3416\n",
      "Epoch: 0048 loss_train: 0.4912 acc_train: 0.7598 acc_val: 0.3313\n",
      "Epoch: 0049 loss_train: 0.4908 acc_train: 0.7600 acc_val: 0.3457\n",
      "Epoch: 0050 loss_train: 0.4900 acc_train: 0.7603 acc_val: 0.3380\n",
      "Test set results: test_loss= 0.6778 test_accuracy= 0.6035 precision= 0.7017 recall= 0.3567 f1_score= 0.4729 auc= 0.6029\n"
     ]
    }
   ],
   "source": [
    "epochs = 50\n",
    "\n",
    "for epoch in range(epochs):\n",
    "    train_gcn(epoch, optimizer, following_edge_index)\n",
    "    \n",
    "test_gcn(following_edge_index)"
   ]
  },
  {
   "attachments": {},
   "cell_type": "markdown",
   "metadata": {},
   "source": [
    "INTERACTIONS"
   ]
  },
  {
   "cell_type": "code",
   "execution_count": 20,
   "metadata": {},
   "outputs": [
    {
     "name": "stdout",
     "output_type": "stream",
     "text": [
      "Epoch: 0001 loss_train: 0.3128 acc_train: 0.8692 acc_val: 0.6489\n",
      "Epoch: 0002 loss_train: 0.3124 acc_train: 0.8674 acc_val: 0.6936\n",
      "Epoch: 0003 loss_train: 0.3249 acc_train: 0.8657 acc_val: 0.5878\n",
      "Epoch: 0004 loss_train: 0.3375 acc_train: 0.8595 acc_val: 0.7573\n",
      "Epoch: 0005 loss_train: 0.3140 acc_train: 0.8643 acc_val: 0.5800\n",
      "Epoch: 0006 loss_train: 0.3254 acc_train: 0.8579 acc_val: 0.5306\n",
      "Epoch: 0007 loss_train: 0.3113 acc_train: 0.8681 acc_val: 0.6353\n",
      "Epoch: 0008 loss_train: 0.3205 acc_train: 0.8653 acc_val: 0.7054\n",
      "Epoch: 0009 loss_train: 0.3109 acc_train: 0.8682 acc_val: 0.6224\n",
      "Epoch: 0010 loss_train: 0.3133 acc_train: 0.8680 acc_val: 0.6055\n",
      "Epoch: 0011 loss_train: 0.3076 acc_train: 0.8694 acc_val: 0.6726\n",
      "Epoch: 0012 loss_train: 0.3130 acc_train: 0.8694 acc_val: 0.6920\n",
      "Epoch: 0013 loss_train: 0.3046 acc_train: 0.8706 acc_val: 0.6336\n",
      "Epoch: 0014 loss_train: 0.3092 acc_train: 0.8701 acc_val: 0.6112\n",
      "Epoch: 0015 loss_train: 0.3030 acc_train: 0.8708 acc_val: 0.6672\n",
      "Epoch: 0016 loss_train: 0.3064 acc_train: 0.8695 acc_val: 0.6941\n",
      "Epoch: 0017 loss_train: 0.3001 acc_train: 0.8716 acc_val: 0.6302\n",
      "Epoch: 0018 loss_train: 0.3050 acc_train: 0.8690 acc_val: 0.5887\n",
      "Epoch: 0019 loss_train: 0.2991 acc_train: 0.8718 acc_val: 0.6292\n",
      "Epoch: 0020 loss_train: 0.3018 acc_train: 0.8708 acc_val: 0.6851\n",
      "Epoch: 0021 loss_train: 0.2977 acc_train: 0.8721 acc_val: 0.6605\n",
      "Epoch: 0022 loss_train: 0.3000 acc_train: 0.8722 acc_val: 0.6278\n",
      "Epoch: 0023 loss_train: 0.2960 acc_train: 0.8730 acc_val: 0.6545\n",
      "Epoch: 0024 loss_train: 0.2977 acc_train: 0.8728 acc_val: 0.6734\n",
      "Epoch: 0025 loss_train: 0.2947 acc_train: 0.8736 acc_val: 0.6447\n",
      "Epoch: 0026 loss_train: 0.2961 acc_train: 0.8734 acc_val: 0.6364\n",
      "Epoch: 0027 loss_train: 0.2939 acc_train: 0.8739 acc_val: 0.6747\n",
      "Epoch: 0028 loss_train: 0.2935 acc_train: 0.8736 acc_val: 0.6792\n",
      "Epoch: 0029 loss_train: 0.2927 acc_train: 0.8749 acc_val: 0.6405\n",
      "Epoch: 0030 loss_train: 0.2921 acc_train: 0.8746 acc_val: 0.6421\n",
      "Epoch: 0031 loss_train: 0.2918 acc_train: 0.8744 acc_val: 0.6775\n",
      "Epoch: 0032 loss_train: 0.2900 acc_train: 0.8750 acc_val: 0.6704\n",
      "Epoch: 0033 loss_train: 0.2903 acc_train: 0.8753 acc_val: 0.6406\n",
      "Epoch: 0034 loss_train: 0.2884 acc_train: 0.8756 acc_val: 0.6568\n",
      "Epoch: 0035 loss_train: 0.2883 acc_train: 0.8755 acc_val: 0.6780\n",
      "Epoch: 0036 loss_train: 0.2875 acc_train: 0.8760 acc_val: 0.6590\n",
      "Epoch: 0037 loss_train: 0.2868 acc_train: 0.8761 acc_val: 0.6608\n",
      "Epoch: 0038 loss_train: 0.2865 acc_train: 0.8763 acc_val: 0.6806\n",
      "Epoch: 0039 loss_train: 0.2852 acc_train: 0.8767 acc_val: 0.6644\n",
      "Epoch: 0040 loss_train: 0.2850 acc_train: 0.8771 acc_val: 0.6530\n",
      "Epoch: 0041 loss_train: 0.2844 acc_train: 0.8771 acc_val: 0.6789\n",
      "Epoch: 0042 loss_train: 0.2834 acc_train: 0.8771 acc_val: 0.6790\n",
      "Epoch: 0043 loss_train: 0.2833 acc_train: 0.8773 acc_val: 0.6617\n",
      "Epoch: 0044 loss_train: 0.2828 acc_train: 0.8775 acc_val: 0.6820\n",
      "Epoch: 0045 loss_train: 0.2815 acc_train: 0.8780 acc_val: 0.6791\n",
      "Epoch: 0046 loss_train: 0.2820 acc_train: 0.8784 acc_val: 0.6632\n",
      "Epoch: 0047 loss_train: 0.2808 acc_train: 0.8787 acc_val: 0.6832\n",
      "Epoch: 0048 loss_train: 0.2801 acc_train: 0.8787 acc_val: 0.6755\n",
      "Epoch: 0049 loss_train: 0.2795 acc_train: 0.8788 acc_val: 0.6711\n",
      "Epoch: 0050 loss_train: 0.2793 acc_train: 0.8787 acc_val: 0.6868\n",
      "Test set results: test_loss= 0.5976 test_accuracy= 0.7213 precision= 0.7289 recall= 0.7023 f1_score= 0.7154 auc= 0.7212\n"
     ]
    }
   ],
   "source": [
    "epochs = 50\n",
    "\n",
    "for epoch in range(epochs):\n",
    "    train_gcn(epoch, optimizer, interactions_edge_index)\n",
    "    \n",
    "test_gcn(interactions_edge_index)\n",
    "\n",
    "#Cross Validation\n"
   ]
  }
 ],
 "metadata": {
  "kernelspec": {
   "display_name": "Python 3",
   "language": "python",
   "name": "python3"
  },
  "language_info": {
   "codemirror_mode": {
    "name": "ipython",
    "version": 3
   },
   "file_extension": ".py",
   "mimetype": "text/x-python",
   "name": "python",
   "nbconvert_exporter": "python",
   "pygments_lexer": "ipython3",
   "version": "3.11.7"
  },
  "orig_nbformat": 4
 },
 "nbformat": 4,
 "nbformat_minor": 2
}
